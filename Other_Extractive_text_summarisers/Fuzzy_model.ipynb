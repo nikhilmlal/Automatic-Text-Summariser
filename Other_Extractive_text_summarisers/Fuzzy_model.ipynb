{
  "nbformat": 4,
  "nbformat_minor": 0,
  "metadata": {
    "colab": {
      "name": "Fuzzy_model.ipynb",
      "provenance": []
    },
    "kernelspec": {
      "name": "python3",
      "display_name": "Python 3"
    }
  },
  "cells": [
    {
      "cell_type": "code",
      "metadata": {
        "id": "aeq2GXfHfIe1",
        "outputId": "fad643ea-9e56-4326-b25d-4479f07ded4e",
        "colab": {
          "base_uri": "https://localhost:8080/",
          "height": 182
        }
      },
      "source": [
        "# Importing packages\n",
        "import nltk\n",
        "import pandas as pd\n",
        "import re\n",
        "nltk.download('wordnet')\n",
        "nltk.download('punkt')\n",
        "nltk.download('stopwords')\n",
        "nltk.download('brown')"
      ],
      "execution_count": null,
      "outputs": [
        {
          "output_type": "stream",
          "text": [
            "[nltk_data] Downloading package wordnet to /root/nltk_data...\n",
            "[nltk_data]   Package wordnet is already up-to-date!\n",
            "[nltk_data] Downloading package punkt to /root/nltk_data...\n",
            "[nltk_data]   Package punkt is already up-to-date!\n",
            "[nltk_data] Downloading package stopwords to /root/nltk_data...\n",
            "[nltk_data]   Package stopwords is already up-to-date!\n",
            "[nltk_data] Downloading package brown to /root/nltk_data...\n",
            "[nltk_data]   Package brown is already up-to-date!\n"
          ],
          "name": "stdout"
        },
        {
          "output_type": "execute_result",
          "data": {
            "text/plain": [
              "True"
            ]
          },
          "metadata": {
            "tags": []
          },
          "execution_count": 26
        }
      ]
    },
    {
      "cell_type": "code",
      "metadata": {
        "id": "PqPhNzWjhWE3",
        "outputId": "d86db534-fe44-4350-a9be-1b8971ad1fe9",
        "colab": {
          "base_uri": "https://localhost:8080/",
          "height": 129
        }
      },
      "source": [
        "!pip install -U scikit-fuzzy"
      ],
      "execution_count": null,
      "outputs": [
        {
          "output_type": "stream",
          "text": [
            "Requirement already up-to-date: scikit-fuzzy in /usr/local/lib/python3.6/dist-packages (0.4.2)\n",
            "Requirement already satisfied, skipping upgrade: numpy>=1.6.0 in /usr/local/lib/python3.6/dist-packages (from scikit-fuzzy) (1.18.5)\n",
            "Requirement already satisfied, skipping upgrade: networkx>=1.9.0 in /usr/local/lib/python3.6/dist-packages (from scikit-fuzzy) (2.5)\n",
            "Requirement already satisfied, skipping upgrade: scipy>=0.9.0 in /usr/local/lib/python3.6/dist-packages (from scikit-fuzzy) (1.4.1)\n",
            "Requirement already satisfied, skipping upgrade: decorator>=4.3.0 in /usr/local/lib/python3.6/dist-packages (from networkx>=1.9.0->scikit-fuzzy) (4.4.2)\n"
          ],
          "name": "stdout"
        }
      ]
    },
    {
      "cell_type": "code",
      "metadata": {
        "id": "A64Sr2dlfMcy"
      },
      "source": [
        "# Pre processing\n",
        "def text_cleaner(text):\n",
        "  new_text = text.lower()\n",
        "  new_text = re.sub(\"[^a-zA-Z0-9 .?]\", \" \", str(text))    # removing anything other than alphabets, numbers, period or question mark\n",
        "  new_text = re.sub(\"[ +]\", \" \", new_text) # remove extra whitespaces\n",
        "  new_text = re.sub(\"[.]{2,}\",\".\", new_text) #remove unwanted period symbols\n",
        "  return new_text"
      ],
      "execution_count": null,
      "outputs": []
    },
    {
      "cell_type": "code",
      "metadata": {
        "id": "P_eyimt1fPZs",
        "outputId": "33fdb8dd-61ab-4634-de87-834b6060e965",
        "colab": {
          "base_uri": "https://localhost:8080/",
          "height": 90
        }
      },
      "source": [
        "# removing stopwords\n",
        "nltk.download('stopwords')\n",
        "nltk.download('punkt')\n",
        "from nltk.corpus import stopwords\n",
        "from nltk.tokenize import word_tokenize\n",
        "def stopwords_remover(text):\n",
        "  word_tokens = word_tokenize(text)\n",
        "  new_text = \"\"\n",
        "  stop_words = set(stopwords.words('english'))\n",
        "  for words in word_tokens:\n",
        "    if words not in stop_words:\n",
        "      new_text = new_text + words + \" \"\n",
        "  return new_text"
      ],
      "execution_count": null,
      "outputs": [
        {
          "output_type": "stream",
          "text": [
            "[nltk_data] Downloading package stopwords to /root/nltk_data...\n",
            "[nltk_data]   Package stopwords is already up-to-date!\n",
            "[nltk_data] Downloading package punkt to /root/nltk_data...\n",
            "[nltk_data]   Package punkt is already up-to-date!\n"
          ],
          "name": "stdout"
        }
      ]
    },
    {
      "cell_type": "code",
      "metadata": {
        "id": "EgJBWz2sfTe1",
        "outputId": "54a0b37d-10f5-450d-bce8-ccbe389b72c4",
        "colab": {
          "base_uri": "https://localhost:8080/",
          "height": 54
        }
      },
      "source": [
        "# Applying lemmatisation (not used in the program)\n",
        "nltk.download('wordnet')\n",
        "def lemmatiser(text):\n",
        "  from nltk.stem import WordNetLemmatizer\n",
        "  l = WordNetLemmatizer()\n",
        "  return l.lemmatize(text)"
      ],
      "execution_count": null,
      "outputs": [
        {
          "output_type": "stream",
          "text": [
            "[nltk_data] Downloading package wordnet to /root/nltk_data...\n",
            "[nltk_data]   Package wordnet is already up-to-date!\n"
          ],
          "name": "stdout"
        }
      ]
    },
    {
      "cell_type": "code",
      "metadata": {
        "id": "r_vB4FRUfVrL",
        "outputId": "07e5dbc7-2001-4f69-efca-62c348f15a98",
        "colab": {
          "base_uri": "https://localhost:8080/",
          "height": 54
        }
      },
      "source": [
        "# Applying stemming\n",
        "nltk.download('wordnet')\n",
        "def stemmer(text):\n",
        "  from nltk.stem import PorterStemmer\n",
        "  ps =PorterStemmer()\n",
        "  sentences = nltk.sent_tokenize(text)\n",
        "  new_text = \"\"\n",
        "  for sentence in sentences:\n",
        "    temp_text = \"\"\n",
        "    words = nltk.word_tokenize(sentence)\n",
        "    for word in words:\n",
        "      word = ps.stem(word)\n",
        "      temp_text = temp_text + word +\" \"\n",
        "    new_text = new_text + temp_text\n",
        "  return new_text"
      ],
      "execution_count": null,
      "outputs": [
        {
          "output_type": "stream",
          "text": [
            "[nltk_data] Downloading package wordnet to /root/nltk_data...\n",
            "[nltk_data]   Package wordnet is already up-to-date!\n"
          ],
          "name": "stdout"
        }
      ]
    },
    {
      "cell_type": "code",
      "metadata": {
        "id": "qIfKMwNOfZp6"
      },
      "source": [
        "# Returns the position scores\n",
        "def position_score(text):\n",
        "  text = nltk.sent_tokenize(text)\n",
        "  sentence_count = len(text)\n",
        "  sent_score = []\n",
        "  for i in range(1,len(text)+1):\n",
        "    pos_score = i/(sentence_count)\n",
        "    if pos_score > 0.0 and pos_score <= 0.1:\n",
        "      sent_score.append(0.17/sentence_count)\n",
        "    elif pos_score > 0.1 and pos_score <= 0.2:\n",
        "      sent_score.append(0.23/sentence_count)\n",
        "    elif pos_score > 0.2 and pos_score <= 0.3:\n",
        "      sent_score.append(0.14/sentence_count)\n",
        "    elif pos_score > 0.3 and pos_score <= 0.4:\n",
        "      sent_score.append(0.08/sentence_count)\n",
        "    elif pos_score > 0.4 and pos_score <= 0.5:\n",
        "      sent_score.append(0.05/sentence_count)\n",
        "    elif pos_score > 0.5 and pos_score <= 0.6:\n",
        "      sent_score.append(0.04/sentence_count)\n",
        "    elif pos_score > 0.6 and pos_score <= 0.7:\n",
        "      sent_score.append(0.06/sentence_count)\n",
        "    elif pos_score > 0.7 and pos_score <= 0.8:\n",
        "      sent_score.append(0.04/sentence_count)\n",
        "    elif pos_score > 0.8 and pos_score <= 0.9:\n",
        "      sent_score.append(0.04/sentence_count)\n",
        "    elif pos_score > 0.9 and pos_score <= 1.0:\n",
        "      sent_score.append(0.15/sentence_count)\n",
        "  return sent_score"
      ],
      "execution_count": null,
      "outputs": []
    },
    {
      "cell_type": "code",
      "metadata": {
        "id": "tziugB4ofbyl",
        "outputId": "6d7a2e16-d64a-42b0-ce9a-61f4b1dadb64",
        "colab": {
          "base_uri": "https://localhost:8080/",
          "height": 182
        }
      },
      "source": [
        "# Finding part-of-speaches. eg: noun, verb.\n",
        "from nltk import pos_tag, ne_chunk\n",
        "nltk.download('averaged_perceptron_tagger')\n",
        "nltk.download('maxent_ne_chunker')\n",
        "nltk.download('words')\n",
        "def pos_tags(text):\n",
        "  return pos_tag(word_tokenize(text))\n",
        "def named_entity(text):\n",
        "  text = pos_tags(text)\n",
        "  return ne_chunk(text)"
      ],
      "execution_count": null,
      "outputs": [
        {
          "output_type": "stream",
          "text": [
            "[nltk_data] Downloading package averaged_perceptron_tagger to\n",
            "[nltk_data]     /root/nltk_data...\n",
            "[nltk_data]   Package averaged_perceptron_tagger is already up-to-\n",
            "[nltk_data]       date!\n",
            "[nltk_data] Downloading package maxent_ne_chunker to\n",
            "[nltk_data]     /root/nltk_data...\n",
            "[nltk_data]   Package maxent_ne_chunker is already up-to-date!\n",
            "[nltk_data] Downloading package words to /root/nltk_data...\n",
            "[nltk_data]   Package words is already up-to-date!\n"
          ],
          "name": "stdout"
        }
      ]
    },
    {
      "cell_type": "code",
      "metadata": {
        "id": "f4y48nVZfhFX"
      },
      "source": [
        "# Returns the number of digits in the sentence\n",
        "def sent_numerical_score(text):\n",
        "  num_scores = []\n",
        "  text = nltk.sent_tokenize(text)\n",
        "  for sentence in text:\n",
        "    count = 0\n",
        "    words = word_tokenize(sentence)\n",
        "    sent_len = len(words)\n",
        "    for word in words:\n",
        "      if word.replace('.','',1).isdigit():\n",
        "        count+=1\n",
        "    num_scores.append(count/sent_len)\n",
        "  return num_scores"
      ],
      "execution_count": null,
      "outputs": []
    },
    {
      "cell_type": "code",
      "metadata": {
        "id": "Kwimu7pHfkVb"
      },
      "source": [
        "# Returns the number of Nouns in the sentence\n",
        "from collections import Counter\n",
        "def noun_counter(text):\n",
        "  counts = []\n",
        "  sentences = nltk.sent_tokenize(text)\n",
        "  for sentence in sentences:\n",
        "    a = pos_tags(sentence)\n",
        "    count = Counter(tag for word,tag in a)\n",
        "    counts.append(count['NN'])\n",
        "  if len(counts)>0:\n",
        "    m = max(counts)\n",
        "  else:\n",
        "    m = 0\n",
        "  counts = [(count/m) for count in counts]\n",
        "  return counts"
      ],
      "execution_count": null,
      "outputs": []
    },
    {
      "cell_type": "code",
      "metadata": {
        "id": "uM6uEKATmZOf"
      },
      "source": [
        "# returns sentiment polarity\n",
        "def sentiment_score(text):\n",
        "  from textblob import TextBlob\n",
        "  sentences = nltk.sent_tokenize(text)\n",
        "  scores = []\n",
        "  for sentence in sentences:\n",
        "    blob = TextBlob(text)\n",
        "    score = blob.sentiment.polarity\n",
        "    if(score<0):\n",
        "      score *=-1\n",
        "    scores.append(score)\n",
        "  return scores"
      ],
      "execution_count": null,
      "outputs": []
    },
    {
      "cell_type": "code",
      "metadata": {
        "id": "l3Kv8s-Eej5b"
      },
      "source": [
        "def fuzzy_method(text,op_len):\n",
        "  import numpy as np\n",
        "  import skfuzzy as fuzz\n",
        "  from skfuzzy import control as ctrl\n",
        "\n",
        "  sentences = nltk.sent_tokenize(text) # Sentence tokenizing\n",
        "  #print(\"Number of sentences in input :\",len(sentences))\n",
        "  if(op_len==None):\n",
        "    op_len = len(sentences)//5\n",
        "    if(op_len==0):\n",
        "      print(\"Input text is too small\")\n",
        "      return\n",
        "\n",
        "  pos_score = ctrl.Antecedent(np.arange(0, 11, 1), 'pos_score') # these are in-built functions for assigning the inputs\n",
        "  noun_score = ctrl.Antecedent(np.arange(0, 11, 1), 'noun_score')\n",
        "  num_score = ctrl.Antecedent(np.arange(0, 11, 1), 'num_score')\n",
        "  senti_score = ctrl.Antecedent(np.arange(0, 11, 1), 'senti_score')\n",
        "  score = ctrl.Consequent(np.arange(0, 26, 1), 'score')\n",
        "\n",
        "  pos_score.automf(3) # automf stands for automatic membership functions\n",
        "  noun_score.automf(3)\n",
        "  num_score.automf(3)\n",
        "  senti_score.automf(3)\n",
        "\n",
        "  score['low'] = fuzz.trimf(score.universe, [0, 0, 13])\n",
        "  score['medium'] = fuzz.trimf(score.universe, [0, 13, 25])\n",
        "  score['high'] = fuzz.trimf(score.universe, [13, 25, 25])\n",
        "\n",
        "\n",
        "  rule1 = ctrl.Rule(pos_score['poor'] & noun_score['poor'] & num_score['poor'] & senti_score['poor'], score['low'])\n",
        "  rule2 = ctrl.Rule(pos_score['poor'] & noun_score['poor'] & num_score['poor'] & senti_score['average'], score['low'])\n",
        "  rule3 = ctrl.Rule(pos_score['poor'] & noun_score['poor'] & num_score['poor'] & senti_score['good'], score['low'])\n",
        "  rule4 = ctrl.Rule(pos_score['poor'] & noun_score['poor'] & num_score['average'] & senti_score['poor'], score['low'])\n",
        "  rule5 = ctrl.Rule(pos_score['poor'] & noun_score['poor'] & num_score['average'] & senti_score['average'], score['low'])\n",
        "  rule6 = ctrl.Rule(pos_score['poor'] & noun_score['poor'] & num_score['average'] & senti_score['good'], score['medium'])\n",
        "  rule7 = ctrl.Rule(pos_score['poor'] & noun_score['poor'] & num_score['good'] & senti_score['poor'], score['low'])\n",
        "  rule8 = ctrl.Rule(pos_score['poor'] & noun_score['poor'] & num_score['good'] & senti_score['average'], score['medium'])\n",
        "  rule9 = ctrl.Rule(pos_score['poor'] & noun_score['poor'] & num_score['good'] & senti_score['good'], score['medium'])\n",
        "  rule10 = ctrl.Rule(pos_score['poor'] & noun_score['average'] & num_score['poor'] & senti_score['poor'], score['low'])\n",
        "  rule11 = ctrl.Rule(pos_score['poor'] & noun_score['average'] & num_score['poor'] & senti_score['average'], score['low'])\n",
        "  rule12 = ctrl.Rule(pos_score['poor'] & noun_score['average'] & num_score['poor'] & senti_score['good'], score['medium'])\n",
        "  rule13 = ctrl.Rule(pos_score['poor'] & noun_score['average'] & num_score['average'] & senti_score['poor'], score['low'])\n",
        "  rule14 = ctrl.Rule(pos_score['poor'] & noun_score['average'] & num_score['average'] & senti_score['average'], score['medium'])\n",
        "  rule15 = ctrl.Rule(pos_score['poor'] & noun_score['average'] & num_score['average'] & senti_score['good'], score['medium'])\n",
        "  rule16 = ctrl.Rule(pos_score['poor'] & noun_score['average'] & num_score['good'] & senti_score['poor'], score['medium'])\n",
        "  rule17 = ctrl.Rule(pos_score['poor'] & noun_score['average'] & num_score['good'] & senti_score['average'], score['medium'])\n",
        "  rule18 = ctrl.Rule(pos_score['poor'] & noun_score['average'] & num_score['good'] & senti_score['good'], score['medium'])\n",
        "  rule19 = ctrl.Rule(pos_score['poor'] & noun_score['good'] & num_score['poor'] & senti_score['poor'], score['low'])\n",
        "  rule20 = ctrl.Rule(pos_score['poor'] & noun_score['good'] & num_score['poor'] & senti_score['average'], score['medium'])\n",
        "  rule21 = ctrl.Rule(pos_score['poor'] & noun_score['good'] & num_score['poor'] & senti_score['good'], score['medium'])\n",
        "  rule22 = ctrl.Rule(pos_score['poor'] & noun_score['good'] & num_score['average'] & senti_score['poor'], score['medium'])\n",
        "  rule23 = ctrl.Rule(pos_score['poor'] & noun_score['good'] & num_score['average'] & senti_score['average'], score['medium'])\n",
        "  rule24 = ctrl.Rule(pos_score['poor'] & noun_score['good'] & num_score['average'] & senti_score['good'], score['medium'])\n",
        "  rule25 = ctrl.Rule(pos_score['poor'] & noun_score['good'] & num_score['good'] & senti_score['poor'], score['medium'])\n",
        "  rule26 = ctrl.Rule(pos_score['poor'] & noun_score['good'] & num_score['good'] & senti_score['average'], score['medium'])\n",
        "  rule27 = ctrl.Rule(pos_score['poor'] & noun_score['good'] & num_score['good'] & senti_score['good'], score['high'])\n",
        "  rule28 = ctrl.Rule(pos_score['average'] & noun_score['poor'] & num_score['poor'] & senti_score['poor'], score['low'])\n",
        "  rule29 = ctrl.Rule(pos_score['average'] & noun_score['poor'] & num_score['poor'] & senti_score['average'], score['low'])\n",
        "  rule30 = ctrl.Rule(pos_score['average'] & noun_score['poor'] & num_score['poor'] & senti_score['good'], score['medium'])\n",
        "  rule31 = ctrl.Rule(pos_score['average'] & noun_score['poor'] & num_score['average'] & senti_score['poor'], score['low'])\n",
        "  rule32 = ctrl.Rule(pos_score['average'] & noun_score['poor'] & num_score['average'] & senti_score['average'], score['medium'])\n",
        "  rule33 = ctrl.Rule(pos_score['average'] & noun_score['poor'] & num_score['average'] & senti_score['good'], score['medium'])\n",
        "  rule34 = ctrl.Rule(pos_score['average'] & noun_score['poor'] & num_score['good'] & senti_score['poor'], score['medium'])\n",
        "  rule35 = ctrl.Rule(pos_score['average'] & noun_score['poor'] & num_score['good'] & senti_score['average'], score['medium'])\n",
        "  rule36 = ctrl.Rule(pos_score['average'] & noun_score['poor'] & num_score['good'] & senti_score['good'], score['medium'])\n",
        "  rule37 = ctrl.Rule(pos_score['average'] & noun_score['average'] & num_score['poor'] & senti_score['poor'], score['low'])\n",
        "  rule38 = ctrl.Rule(pos_score['average'] & noun_score['average'] & num_score['poor'] & senti_score['average'], score['medium'])\n",
        "  rule39 = ctrl.Rule(pos_score['average'] & noun_score['average'] & num_score['poor'] & senti_score['good'], score['medium'])\n",
        "  rule40 = ctrl.Rule(pos_score['average'] & noun_score['average'] & num_score['average'] & senti_score['poor'], score['medium'])\n",
        "  rule41 = ctrl.Rule(pos_score['average'] & noun_score['average'] & num_score['average'] & senti_score['average'], score['medium'])\n",
        "  rule42 = ctrl.Rule(pos_score['average'] & noun_score['average'] & num_score['average'] & senti_score['good'], score['medium'])\n",
        "  rule43 = ctrl.Rule(pos_score['average'] & noun_score['average'] & num_score['good'] & senti_score['poor'], score['medium'])\n",
        "  rule44 = ctrl.Rule(pos_score['average'] & noun_score['average'] & num_score['good'] & senti_score['average'], score['medium'])\n",
        "  rule45 = ctrl.Rule(pos_score['average'] & noun_score['average'] & num_score['good'] & senti_score['good'], score['high'])\n",
        "  rule46 = ctrl.Rule(pos_score['average'] & noun_score['good'] & num_score['poor'] & senti_score['poor'], score['medium'])\n",
        "  rule47 = ctrl.Rule(pos_score['average'] & noun_score['good'] & num_score['poor'] & senti_score['average'], score['medium'])\n",
        "  rule48 = ctrl.Rule(pos_score['average'] & noun_score['good'] & num_score['poor'] & senti_score['good'], score['medium'])\n",
        "  rule49 = ctrl.Rule(pos_score['average'] & noun_score['good'] & num_score['average'] & senti_score['poor'], score['medium'])\n",
        "  rule50 = ctrl.Rule(pos_score['average'] & noun_score['good'] & num_score['average'] & senti_score['average'], score['medium'])\n",
        "  rule51 = ctrl.Rule(pos_score['average'] & noun_score['good'] & num_score['average'] & senti_score['good'], score['high'])\n",
        "  rule52 = ctrl.Rule(pos_score['average'] & noun_score['good'] & num_score['good'] & senti_score['poor'], score['medium'])\n",
        "  rule53 = ctrl.Rule(pos_score['average'] & noun_score['good'] & num_score['good'] & senti_score['average'], score['high'])\n",
        "  rule54 = ctrl.Rule(pos_score['average'] & noun_score['good'] & num_score['good'] & senti_score['good'], score['high'])\n",
        "  rule55 = ctrl.Rule(pos_score['good'] & noun_score['poor'] & num_score['poor'] & senti_score['poor'], score['low'])\n",
        "  rule56 = ctrl.Rule(pos_score['good'] & noun_score['poor'] & num_score['poor'] & senti_score['average'], score['medium'])\n",
        "  rule57 = ctrl.Rule(pos_score['good'] & noun_score['poor'] & num_score['poor'] & senti_score['good'], score['medium'])\n",
        "  rule58 = ctrl.Rule(pos_score['good'] & noun_score['poor'] & num_score['average'] & senti_score['poor'], score['medium'])\n",
        "  rule59 = ctrl.Rule(pos_score['good'] & noun_score['poor'] & num_score['average'] & senti_score['average'], score['medium'])\n",
        "  rule60 = ctrl.Rule(pos_score['good'] & noun_score['poor'] & num_score['average'] & senti_score['good'], score['medium'])\n",
        "  rule61 = ctrl.Rule(pos_score['good'] & noun_score['poor'] & num_score['good'] & senti_score['poor'], score['medium'])\n",
        "  rule62 = ctrl.Rule(pos_score['good'] & noun_score['poor'] & num_score['good'] & senti_score['average'], score['medium'])\n",
        "  rule63 = ctrl.Rule(pos_score['good'] & noun_score['poor'] & num_score['good'] & senti_score['good'], score['high'])\n",
        "  rule64 = ctrl.Rule(pos_score['good'] & noun_score['average'] & num_score['poor'] & senti_score['poor'], score['medium'])\n",
        "  rule65 = ctrl.Rule(pos_score['good'] & noun_score['average'] & num_score['poor'] & senti_score['average'], score['medium'])\n",
        "  rule66 = ctrl.Rule(pos_score['good'] & noun_score['average'] & num_score['poor'] & senti_score['good'], score['medium'])\n",
        "  rule67 = ctrl.Rule(pos_score['good'] & noun_score['average'] & num_score['average'] & senti_score['poor'], score['medium'])\n",
        "  rule68 = ctrl.Rule(pos_score['good'] & noun_score['average'] & num_score['average'] & senti_score['average'], score['medium'])\n",
        "  rule69 = ctrl.Rule(pos_score['good'] & noun_score['average'] & num_score['average'] & senti_score['good'], score['high'])\n",
        "  rule70 = ctrl.Rule(pos_score['good'] & noun_score['average'] & num_score['good'] & senti_score['poor'], score['medium'])\n",
        "  rule71 = ctrl.Rule(pos_score['good'] & noun_score['average'] & num_score['good'] & senti_score['average'], score['high'])\n",
        "  rule72 = ctrl.Rule(pos_score['good'] & noun_score['average'] & num_score['good'] & senti_score['good'], score['high'])\n",
        "  rule73 = ctrl.Rule(pos_score['good'] & noun_score['good'] & num_score['poor'] & senti_score['poor'], score['medium'])\n",
        "  rule74 = ctrl.Rule(pos_score['good'] & noun_score['good'] & num_score['poor'] & senti_score['average'], score['medium'])\n",
        "  rule75 = ctrl.Rule(pos_score['good'] & noun_score['good'] & num_score['poor'] & senti_score['good'], score['high'])\n",
        "  rule76 = ctrl.Rule(pos_score['good'] & noun_score['good'] & num_score['average'] & senti_score['poor'], score['medium'])\n",
        "  rule77 = ctrl.Rule(pos_score['good'] & noun_score['good'] & num_score['average'] & senti_score['average'], score['high'])\n",
        "  rule78 = ctrl.Rule(pos_score['good'] & noun_score['good'] & num_score['average'] & senti_score['good'], score['high'])\n",
        "  rule79 = ctrl.Rule(pos_score['good'] & noun_score['good'] & num_score['good'] & senti_score['poor'], score['high'])\n",
        "  rule80 = ctrl.Rule(pos_score['good'] & noun_score['good'] & num_score['good'] & senti_score['average'], score['high'])\n",
        "  rule81 = ctrl.Rule(pos_score['good'] & noun_score['good'] & num_score['good'] & senti_score['good'], score['high'])\n",
        "  \n",
        "  tipping_ctrl = ctrl.ControlSystem([rule1,rule2,rule3,rule4,rule5,rule6,rule7,rule8,rule9,rule10,rule11,rule12,rule13,rule14,rule15,rule16,rule17,rule18,rule19,rule20,rule21,rule22,rule23,rule24,rule25,rule26,rule27,rule28,rule29,rule30,rule31,rule32,rule33,rule34,rule35,rule36,rule37,rule38,rule39,rule40,rule41,rule42,rule43,rule44,rule45,rule46,rule47,rule48,rule49,rule50,rule51,rule52,rule53,rule54,rule55,rule56,rule57,rule58,rule59,rule60,rule61,rule62,rule63,rule64,rule65,rule66,rule67,rule68,rule69,rule70,rule71,rule72,rule73,rule74,rule75,rule76,rule77,rule78,rule79,rule80,rule81])\n",
        "  tipping = ctrl.ControlSystemSimulation(tipping_ctrl)\n",
        "\n",
        "  #text = stopwords_remover(text)\n",
        "  #text = stemmer(text)\n",
        "  #text = text_cleaner(text)\n",
        "\n",
        "  s1 = position_score(text)\n",
        "  s2 = noun_counter(text)\n",
        "  s3 = sent_numerical_score(text)\n",
        "  s4 = sentiment_score(text)\n",
        "\n",
        "  scores = []\n",
        "  for i in range(len(sentences)): # for each sentence scores are computed\n",
        "    tipping.input['pos_score'] = (s1[i])*10\n",
        "    tipping.input['noun_score'] = (s2[i])*10\n",
        "    tipping.input['num_score'] = (s3[i])*10\n",
        "    tipping.input['senti_score'] = (s4[i])*10\n",
        "    tipping.compute()\n",
        "    scores.append(tipping.output['score'])\n",
        "  data_op = pd.DataFrame({'text':sentences,'scores':scores})\n",
        "  data_op = data_op.sort_values(by=['scores'],ascending=False) # scores are sorted\n",
        "  data = data_op.values\n",
        "  new_text = \"\"\n",
        "  for i in range(op_len):\n",
        "    new_text += data[i][0]+\" \"\n",
        "  return new_text"
      ],
      "execution_count": null,
      "outputs": []
    },
    {
      "cell_type": "code",
      "metadata": {
        "id": "f1YZJA0XyBwd",
        "outputId": "0dd8b479-e0bd-460d-ff84-104ff5b55bc0",
        "colab": {
          "base_uri": "https://localhost:8080/",
          "height": 183
        }
      },
      "source": [
        "'''\n",
        "rule1 = ctrl.Rule(pos_score['poor'] & noun_score['poor']& num_score['poor'] , score['low']) # The Fuzzy rules\n",
        "  rule2 = ctrl.Rule(pos_score['poor'] & noun_score['poor']& num_score['average'] , score['low'])\n",
        "  rule3 = ctrl.Rule(pos_score['poor'] & noun_score['poor']& num_score['good'] , score['low'])\n",
        "  rule4 = ctrl.Rule(pos_score['poor'] & noun_score['average']& num_score['poor'] , score['low'])\n",
        "  rule5 = ctrl.Rule(pos_score['poor'] & noun_score['average']& num_score['average'] , score['low'])\n",
        "  rule6 = ctrl.Rule(pos_score['poor'] & noun_score['average']& num_score['good'] , score['low'])\n",
        "  rule7 = ctrl.Rule(pos_score['poor'] & noun_score['good']& num_score['poor'] , score['low'])\n",
        "  rule8 = ctrl.Rule(pos_score['poor'] & noun_score['good']& num_score['average'] , score['low'])\n",
        "  rule9 = ctrl.Rule(pos_score['poor'] & noun_score['good']& num_score['good'] , score['medium'])\n",
        "  rule10 = ctrl.Rule(pos_score['poor'] & noun_score['poor']& num_score['poor'] , score['low'])\n",
        "  rule11 = ctrl.Rule(pos_score['poor'] & noun_score['poor']& num_score['average'] , score['low'])\n",
        "  rule12 = ctrl.Rule(pos_score['poor'] & noun_score['poor']& num_score['good'] , score['low'])\n",
        "  rule13 = ctrl.Rule(pos_score['poor'] & noun_score['average']& num_score['poor'] , score['low'])\n",
        "  rule14 = ctrl.Rule(pos_score['poor'] & noun_score['average']& num_score['average'] , score['low'])\n",
        "  rule15 = ctrl.Rule(pos_score['poor'] & noun_score['average']& num_score['good'] , score['medium'])\n",
        "  rule16 = ctrl.Rule(pos_score['poor'] & noun_score['good']& num_score['poor'] , score['low'])\n",
        "  rule17 = ctrl.Rule(pos_score['poor'] & noun_score['good']& num_score['average'] , score['medium'])\n",
        "  rule18 = ctrl.Rule(pos_score['poor'] & noun_score['good']& num_score['good'] , score['medium'])\n",
        "  rule19 = ctrl.Rule(pos_score['poor'] & noun_score['poor']& num_score['poor'] , score['low'])\n",
        "  rule20 = ctrl.Rule(pos_score['poor'] & noun_score['poor']& num_score['average'] , score['low'])\n",
        "  rule21 = ctrl.Rule(pos_score['poor'] & noun_score['poor']& num_score['good'] , score['medium'])\n",
        "  rule22 = ctrl.Rule(pos_score['poor'] & noun_score['average']& num_score['poor'] , score['low'])\n",
        "  rule23 = ctrl.Rule(pos_score['poor'] & noun_score['average']& num_score['average'] , score['medium'])\n",
        "  rule24 = ctrl.Rule(pos_score['poor'] & noun_score['average']& num_score['good'] , score['medium'])\n",
        "  rule25 = ctrl.Rule(pos_score['poor'] & noun_score['good']& num_score['poor'] , score['medium'])\n",
        "  rule26 = ctrl.Rule(pos_score['poor'] & noun_score['good']& num_score['average'] , score['medium'])\n",
        "  rule27 = ctrl.Rule(pos_score['poor'] & noun_score['good']& num_score['good'] , score['medium'])\n",
        "  rule28 = ctrl.Rule(pos_score['average'] & noun_score['poor']& num_score['poor'] , score['low'])\n",
        "  rule29 = ctrl.Rule(pos_score['average'] & noun_score['poor']& num_score['average'] , score['low'])\n",
        "  rule30 = ctrl.Rule(pos_score['average'] & noun_score['poor']& num_score['good'] , score['low'])\n",
        "  rule31 = ctrl.Rule(pos_score['average'] & noun_score['average']& num_score['poor'] , score['low'])\n",
        "  rule32 = ctrl.Rule(pos_score['average'] & noun_score['average']& num_score['average'] , score['medium'])\n",
        "  rule33 = ctrl.Rule(pos_score['average'] & noun_score['average']& num_score['good'] , score['medium'])\n",
        "  rule34 = ctrl.Rule(pos_score['average'] & noun_score['good']& num_score['poor'] , score['low'])\n",
        "  rule35 = ctrl.Rule(pos_score['average'] & noun_score['good']& num_score['average'] , score['medium'])\n",
        "  rule36 = ctrl.Rule(pos_score['average'] & noun_score['good']& num_score['good'] , score['medium'])\n",
        "  rule37 = ctrl.Rule(pos_score['average'] & noun_score['poor']& num_score['poor'] , score['low'])\n",
        "  rule38 = ctrl.Rule(pos_score['average'] & noun_score['poor']& num_score['average'] , score['low'])\n",
        "  rule39 = ctrl.Rule(pos_score['average'] & noun_score['poor']& num_score['good'] , score['medium'])\n",
        "  rule40 = ctrl.Rule(pos_score['average'] & noun_score['average']& num_score['poor'] , score['low'])\n",
        "  rule41 = ctrl.Rule(pos_score['average'] & noun_score['average']& num_score['average'] , score['medium'])\n",
        "  rule42 = ctrl.Rule(pos_score['average'] & noun_score['average']& num_score['good'] , score['medium'])\n",
        "  rule43 = ctrl.Rule(pos_score['average'] & noun_score['good']& num_score['poor'] , score['medium'])\n",
        "  rule44 = ctrl.Rule(pos_score['average'] & noun_score['good']& num_score['average'] , score['medium'])\n",
        "  rule45 = ctrl.Rule(pos_score['average'] & noun_score['good']& num_score['good'] , score['medium'])\n",
        "  rule46 = ctrl.Rule(pos_score['average'] & noun_score['poor']& num_score['poor'] , score['low'])\n",
        "  rule47 = ctrl.Rule(pos_score['average'] & noun_score['poor']& num_score['average'] , score['medium'])\n",
        "  rule48 = ctrl.Rule(pos_score['average'] & noun_score['poor']& num_score['good'] , score['medium'])\n",
        "  rule49 = ctrl.Rule(pos_score['average'] & noun_score['average']& num_score['poor'] , score['low'])\n",
        "  rule50 = ctrl.Rule(pos_score['average'] & noun_score['average']& num_score['average'] , score['medium'])\n",
        "  rule51 = ctrl.Rule(pos_score['average'] & noun_score['average']& num_score['good'] , score['medium'])\n",
        "  rule52 = ctrl.Rule(pos_score['average'] & noun_score['good']& num_score['poor'] , score['medium'])\n",
        "  rule53 = ctrl.Rule(pos_score['average'] & noun_score['good']& num_score['average'] , score['medium'])\n",
        "  rule54 = ctrl.Rule(pos_score['average'] & noun_score['good']& num_score['good'] , score['high'])\n",
        "  rule55 = ctrl.Rule(pos_score['good'] & noun_score['poor']& num_score['poor'] , score['low'])\n",
        "  rule56 = ctrl.Rule(pos_score['good'] & noun_score['poor']& num_score['average'] , score['low'])\n",
        "  rule57 = ctrl.Rule(pos_score['good'] & noun_score['poor']& num_score['good'] , score['medium'])\n",
        "  rule58 = ctrl.Rule(pos_score['good'] & noun_score['average']& num_score['poor'] , score['low'])\n",
        "  rule59 = ctrl.Rule(pos_score['good'] & noun_score['average']& num_score['average'] , score['medium'])\n",
        "  rule60 = ctrl.Rule(pos_score['good'] & noun_score['average']& num_score['good'] , score['medium'])\n",
        "  rule61 = ctrl.Rule(pos_score['good'] & noun_score['good']& num_score['poor'] , score['medium'])\n",
        "  rule62 = ctrl.Rule(pos_score['good'] & noun_score['good']& num_score['average'] , score['medium'])\n",
        "  rule63 = ctrl.Rule(pos_score['good'] & noun_score['good']& num_score['good'] , score['medium'])\n",
        "  rule64 = ctrl.Rule(pos_score['good'] & noun_score['poor']& num_score['poor'] , score['low'])\n",
        "  rule65 = ctrl.Rule(pos_score['good'] & noun_score['poor']& num_score['average'] , score['medium'])\n",
        "  rule66 = ctrl.Rule(pos_score['good'] & noun_score['poor']& num_score['good'] , score['medium'])\n",
        "  rule67 = ctrl.Rule(pos_score['good'] & noun_score['average']& num_score['poor'] , score['medium'])\n",
        "  rule68 = ctrl.Rule(pos_score['good'] & noun_score['average']& num_score['average'] , score['medium'])\n",
        "  rule69 = ctrl.Rule(pos_score['good'] & noun_score['average']& num_score['good'] , score['medium'])\n",
        "  rule70 = ctrl.Rule(pos_score['good'] & noun_score['good']& num_score['poor'] , score['medium'])\n",
        "  rule71 = ctrl.Rule(pos_score['good'] & noun_score['good']& num_score['average'] , score['medium'])\n",
        "  rule72 = ctrl.Rule(pos_score['good'] & noun_score['good']& num_score['good'] , score['high'])\n",
        "  rule73 = ctrl.Rule(pos_score['good'] & noun_score['poor']& num_score['poor'] , score['medium'])\n",
        "  rule74 = ctrl.Rule(pos_score['good'] & noun_score['poor']& num_score['average'] , score['medium'])\n",
        "  rule75 = ctrl.Rule(pos_score['good'] & noun_score['poor']& num_score['good'] , score['medium'])\n",
        "  rule76 = ctrl.Rule(pos_score['good'] & noun_score['average']& num_score['poor'] , score['medium'])\n",
        "  rule77 = ctrl.Rule(pos_score['good'] & noun_score['average']& num_score['average'] , score['medium'])\n",
        "  rule78 = ctrl.Rule(pos_score['good'] & noun_score['average']& num_score['good'] , score['high'])\n",
        "  rule79 = ctrl.Rule(pos_score['good'] & noun_score['good']& num_score['poor'] , score['medium'])\n",
        "  rule80 = ctrl.Rule(pos_score['good'] & noun_score['good']& num_score['average'] , score['high'])\n",
        "  rule81 = ctrl.Rule(pos_score['good'] & noun_score['good']& num_score['good'] , score['high'])\n",
        "'''"
      ],
      "execution_count": null,
      "outputs": [
        {
          "output_type": "execute_result",
          "data": {
            "application/vnd.google.colaboratory.intrinsic+json": {
              "type": "string"
            },
            "text/plain": [
              "\"\\nrule1 = ctrl.Rule(pos_score['poor'] & noun_score['poor']& num_score['poor'] , score['low']) # The Fuzzy rules\\n  rule2 = ctrl.Rule(pos_score['poor'] & noun_score['poor']& num_score['average'] , score['low'])\\n  rule3 = ctrl.Rule(pos_score['poor'] & noun_score['poor']& num_score['good'] , score['low'])\\n  rule4 = ctrl.Rule(pos_score['poor'] & noun_score['average']& num_score['poor'] , score['low'])\\n  rule5 = ctrl.Rule(pos_score['poor'] & noun_score['average']& num_score['average'] , score['low'])\\n  rule6 = ctrl.Rule(pos_score['poor'] & noun_score['average']& num_score['good'] , score['low'])\\n  rule7 = ctrl.Rule(pos_score['poor'] & noun_score['good']& num_score['poor'] , score['low'])\\n  rule8 = ctrl.Rule(pos_score['poor'] & noun_score['good']& num_score['average'] , score['low'])\\n  rule9 = ctrl.Rule(pos_score['poor'] & noun_score['good']& num_score['good'] , score['medium'])\\n  rule10 = ctrl.Rule(pos_score['poor'] & noun_score['poor']& num_score['poor'] , score['low'])\\n  rule11 = ctrl.Rule(pos_score['poor'] & noun_score['poor']& num_score['average'] , score['low'])\\n  rule12 = ctrl.Rule(pos_score['poor'] & noun_score['poor']& num_score['good'] , score['low'])\\n  rule13 = ctrl.Rule(pos_score['poor'] & noun_score['average']& num_score['poor'] , score['low'])\\n  rule14 = ctrl.Rule(pos_score['poor'] & noun_score['average']& num_score['average'] , score['low'])\\n  rule15 = ctrl.Rule(pos_score['poor'] & noun_score['average']& num_score['good'] , score['medium'])\\n  rule16 = ctrl.Rule(pos_score['poor'] & noun_score['good']& num_score['poor'] , score['low'])\\n  rule17 = ctrl.Rule(pos_score['poor'] & noun_score['good']& num_score['average'] , score['medium'])\\n  rule18 = ctrl.Rule(pos_score['poor'] & noun_score['good']& num_score['good'] , score['medium'])\\n  rule19 = ctrl.Rule(pos_score['poor'] & noun_score['poor']& num_score['poor'] , score['low'])\\n  rule20 = ctrl.Rule(pos_score['poor'] & noun_score['poor']& num_score['average'] , score['low'])\\n  rule21 = ctrl.Rule(pos_score['poor'] & noun_score['poor']& num_score['good'] , score['medium'])\\n  rule22 = ctrl.Rule(pos_score['poor'] & noun_score['average']& num_score['poor'] , score['low'])\\n  rule23 = ctrl.Rule(pos_score['poor'] & noun_score['average']& num_score['average'] , score['medium'])\\n  rule24 = ctrl.Rule(pos_score['poor'] & noun_score['average']& num_score['good'] , score['medium'])\\n  rule25 = ctrl.Rule(pos_score['poor'] & noun_score['good']& num_score['poor'] , score['medium'])\\n  rule26 = ctrl.Rule(pos_score['poor'] & noun_score['good']& num_score['average'] , score['medium'])\\n  rule27 = ctrl.Rule(pos_score['poor'] & noun_score['good']& num_score['good'] , score['medium'])\\n  rule28 = ctrl.Rule(pos_score['average'] & noun_score['poor']& num_score['poor'] , score['low'])\\n  rule29 = ctrl.Rule(pos_score['average'] & noun_score['poor']& num_score['average'] , score['low'])\\n  rule30 = ctrl.Rule(pos_score['average'] & noun_score['poor']& num_score['good'] , score['low'])\\n  rule31 = ctrl.Rule(pos_score['average'] & noun_score['average']& num_score['poor'] , score['low'])\\n  rule32 = ctrl.Rule(pos_score['average'] & noun_score['average']& num_score['average'] , score['medium'])\\n  rule33 = ctrl.Rule(pos_score['average'] & noun_score['average']& num_score['good'] , score['medium'])\\n  rule34 = ctrl.Rule(pos_score['average'] & noun_score['good']& num_score['poor'] , score['low'])\\n  rule35 = ctrl.Rule(pos_score['average'] & noun_score['good']& num_score['average'] , score['medium'])\\n  rule36 = ctrl.Rule(pos_score['average'] & noun_score['good']& num_score['good'] , score['medium'])\\n  rule37 = ctrl.Rule(pos_score['average'] & noun_score['poor']& num_score['poor'] , score['low'])\\n  rule38 = ctrl.Rule(pos_score['average'] & noun_score['poor']& num_score['average'] , score['low'])\\n  rule39 = ctrl.Rule(pos_score['average'] & noun_score['poor']& num_score['good'] , score['medium'])\\n  rule40 = ctrl.Rule(pos_score['average'] & noun_score['average']& num_score['poor'] , score['low'])\\n  rule41 = ctrl.Rule(pos_score['average'] & noun_score['average']& num_score['average'] , score['medium'])\\n  rule42 = ctrl.Rule(pos_score['average'] & noun_score['average']& num_score['good'] , score['medium'])\\n  rule43 = ctrl.Rule(pos_score['average'] & noun_score['good']& num_score['poor'] , score['medium'])\\n  rule44 = ctrl.Rule(pos_score['average'] & noun_score['good']& num_score['average'] , score['medium'])\\n  rule45 = ctrl.Rule(pos_score['average'] & noun_score['good']& num_score['good'] , score['medium'])\\n  rule46 = ctrl.Rule(pos_score['average'] & noun_score['poor']& num_score['poor'] , score['low'])\\n  rule47 = ctrl.Rule(pos_score['average'] & noun_score['poor']& num_score['average'] , score['medium'])\\n  rule48 = ctrl.Rule(pos_score['average'] & noun_score['poor']& num_score['good'] , score['medium'])\\n  rule49 = ctrl.Rule(pos_score['average'] & noun_score['average']& num_score['poor'] , score['low'])\\n  rule50 = ctrl.Rule(pos_score['average'] & noun_score['average']& num_score['average'] , score['medium'])\\n  rule51 = ctrl.Rule(pos_score['average'] & noun_score['average']& num_score['good'] , score['medium'])\\n  rule52 = ctrl.Rule(pos_score['average'] & noun_score['good']& num_score['poor'] , score['medium'])\\n  rule53 = ctrl.Rule(pos_score['average'] & noun_score['good']& num_score['average'] , score['medium'])\\n  rule54 = ctrl.Rule(pos_score['average'] & noun_score['good']& num_score['good'] , score['high'])\\n  rule55 = ctrl.Rule(pos_score['good'] & noun_score['poor']& num_score['poor'] , score['low'])\\n  rule56 = ctrl.Rule(pos_score['good'] & noun_score['poor']& num_score['average'] , score['low'])\\n  rule57 = ctrl.Rule(pos_score['good'] & noun_score['poor']& num_score['good'] , score['medium'])\\n  rule58 = ctrl.Rule(pos_score['good'] & noun_score['average']& num_score['poor'] , score['low'])\\n  rule59 = ctrl.Rule(pos_score['good'] & noun_score['average']& num_score['average'] , score['medium'])\\n  rule60 = ctrl.Rule(pos_score['good'] & noun_score['average']& num_score['good'] , score['medium'])\\n  rule61 = ctrl.Rule(pos_score['good'] & noun_score['good']& num_score['poor'] , score['medium'])\\n  rule62 = ctrl.Rule(pos_score['good'] & noun_score['good']& num_score['average'] , score['medium'])\\n  rule63 = ctrl.Rule(pos_score['good'] & noun_score['good']& num_score['good'] , score['medium'])\\n  rule64 = ctrl.Rule(pos_score['good'] & noun_score['poor']& num_score['poor'] , score['low'])\\n  rule65 = ctrl.Rule(pos_score['good'] & noun_score['poor']& num_score['average'] , score['medium'])\\n  rule66 = ctrl.Rule(pos_score['good'] & noun_score['poor']& num_score['good'] , score['medium'])\\n  rule67 = ctrl.Rule(pos_score['good'] & noun_score['average']& num_score['poor'] , score['medium'])\\n  rule68 = ctrl.Rule(pos_score['good'] & noun_score['average']& num_score['average'] , score['medium'])\\n  rule69 = ctrl.Rule(pos_score['good'] & noun_score['average']& num_score['good'] , score['medium'])\\n  rule70 = ctrl.Rule(pos_score['good'] & noun_score['good']& num_score['poor'] , score['medium'])\\n  rule71 = ctrl.Rule(pos_score['good'] & noun_score['good']& num_score['average'] , score['medium'])\\n  rule72 = ctrl.Rule(pos_score['good'] & noun_score['good']& num_score['good'] , score['high'])\\n  rule73 = ctrl.Rule(pos_score['good'] & noun_score['poor']& num_score['poor'] , score['medium'])\\n  rule74 = ctrl.Rule(pos_score['good'] & noun_score['poor']& num_score['average'] , score['medium'])\\n  rule75 = ctrl.Rule(pos_score['good'] & noun_score['poor']& num_score['good'] , score['medium'])\\n  rule76 = ctrl.Rule(pos_score['good'] & noun_score['average']& num_score['poor'] , score['medium'])\\n  rule77 = ctrl.Rule(pos_score['good'] & noun_score['average']& num_score['average'] , score['medium'])\\n  rule78 = ctrl.Rule(pos_score['good'] & noun_score['average']& num_score['good'] , score['high'])\\n  rule79 = ctrl.Rule(pos_score['good'] & noun_score['good']& num_score['poor'] , score['medium'])\\n  rule80 = ctrl.Rule(pos_score['good'] & noun_score['good']& num_score['average'] , score['high'])\\n  rule81 = ctrl.Rule(pos_score['good'] & noun_score['good']& num_score['good'] , score['high'])\\n\""
            ]
          },
          "metadata": {
            "tags": []
          },
          "execution_count": 13
        }
      ]
    },
    {
      "cell_type": "code",
      "metadata": {
        "id": "a4Z1NVZrgdcX",
        "outputId": "84ef9efd-10b2-4e47-a6c7-8fb72f6e499e",
        "colab": {
          "base_uri": "https://localhost:8080/",
          "height": 92
        }
      },
      "source": [
        "# finding summary of a sample text\n",
        "text = \"A car (or automobile) is a wheeled motor vehicle used for transportation. Most definitions of cars say that they run primarily on roads, seat one to eight people, have four tires, and mainly transport people rather than goods.[2][3]Cars came into global use during the 20th century, and developed economies depend on them. The year 1886 is regarded as the birth year of the modern car when German inventor Karl Benz patented his Benz Patent-Motorwagen. Cars became widely available in the early 20th century. One of the first cars accessible to the masses was the 1908 Model T, an American car manufactured by the Ford Motor Company. Cars were rapidly adopted in the US, where they replaced animal-drawn carriages and carts, but took much longer to be accepted in Western Europe and other parts of the world.[citation needed]Cars have controls for driving, parking, passenger comfort, and a variety of lights. Over the decades, additional features and controls have been added to vehicles, making them progressively more complex, but also more reliable and easier to operate.[citation needed] These include rear reversing cameras, air conditioning, navigation systems, and in-car entertainment. Most cars in use in the 2010s are propelled by an internal combustion engine, fueled by the combustion of fossil fuels. Electric cars, which were invented early in the history of the car, became commercially available in the 2000s and are predicted to cost less to buy than gasoline cars before 2025.[4][5]There are costs and benefits to car use. The costs to the individual include acquiring the vehicle, interest payments (if the car is financed), repairs and maintenance, fuel, depreciation, driving time, parking fees, taxes, and insurance.[6] The costs to society include maintaining roads, land use, road congestion, air pollution, public health, health care, and disposing of the vehicle at the end of its life. Traffic collisions are the largest cause of injury-related deaths worldwide.[7]The personal benefits include on-demand transportation, mobility, independence, and convenience.[8] The societal benefits include economic benefits, such as job and wealth creation from the automotive industry, transportation provision, societal well-being from leisure and travel opportunities, and revenue generation from the taxes. People's ability to move flexibly from place to place has far-reaching implications for the nature of societies.[9] There are around 1 billion cars in use worldwide. The numbers are increasing rapidly, especially in China, India and other newly industrialized countries [10].\"\n",
        "output_sentence = None\n",
        "summary = fuzzy_method(text,output_sentence)\n",
        "print(\"No of sentences in output :\",len(nltk.sent_tokenize(summary)))\n",
        "print(summary)"
      ],
      "execution_count": null,
      "outputs": [
        {
          "output_type": "stream",
          "text": [
            "Number of sentences in input : 21\n",
            "No of sentences in output : 4\n",
            "[4][5]There are costs and benefits to car use. Electric cars, which were invented early in the history of the car, became commercially available in the 2000s and are predicted to cost less to buy than gasoline cars before 2025. [8] The societal benefits include economic benefits, such as job and wealth creation from the automotive industry, transportation provision, societal well-being from leisure and travel opportunities, and revenue generation from the taxes. [9] There are around 1 billion cars in use worldwide. \n"
          ],
          "name": "stdout"
        }
      ]
    },
    {
      "cell_type": "code",
      "metadata": {
        "id": "qBLMO_aKuHLe",
        "outputId": "2ad3ddcd-08a4-4a96-fb45-ac38fefdd438",
        "colab": {
          "base_uri": "https://localhost:8080/",
          "height": 110
        }
      },
      "source": [
        "input_text = input(\"Enter the text to be summarised :\")\n",
        "output_sentence = None\n",
        "summary = fuzzy_method(input_text,output_sentence)\n",
        "print(\"No of sentences in output :\",len(nltk.sent_tokenize(summary)))\n",
        "print(summary)"
      ],
      "execution_count": null,
      "outputs": [
        {
          "output_type": "stream",
          "text": [
            "Enter the text to be summarised :A car (or automobile) is a wheeled motor vehicle used for transportation. Most definitions of cars say that they run primarily on roads, seat one to eight people, have four tires, and mainly transport people rather than goods.[2][3]Cars came into global use during the 20th century, and developed economies depend on them. The year 1886 is regarded as the birth year of the modern car when German inventor Karl Benz patented his Benz Patent-Motorwagen. Cars became widely available in the early 20th century. One of the first cars accessible to the masses was the 1908 Model T, an American car manufactured by the Ford Motor Company. Cars were rapidly adopted in the US, where they replaced animal-drawn carriages and carts, but took much longer to be accepted in Western Europe and other parts of the world.[citation needed]Cars have controls for driving, parking, passenger comfort, and a variety of lights. Over the decades, additional features and controls have been added to vehicles, making them progressively more complex, but also more reliable and easier to operate.[citation needed] These include rear reversing cameras, air conditioning, navigation systems, and in-car entertainment. Most cars in use in the 2010s are propelled by an internal combustion engine, fueled by the combustion of fossil fuels. Electric cars, which were invented early in the history of the car, became commercially available in the 2000s and are predicted to cost less to buy than gasoline cars before 2025.[4][5]There are costs and benefits to car use. The costs to the individual include acquiring the vehicle, interest payments (if the car is financed), repairs and maintenance, fuel, depreciation, driving time, parking fees, taxes, and insurance.[6] The costs to society include maintaining roads, land use, road congestion, air pollution, public health, health care, and disposing of the vehicle at the end of its life. Traffic collisions are the largest cause of injury-related deaths worldwide.[7]The personal benefits include on-demand transportation, mobility, independence, and convenience.[8] The societal benefits include economic benefits, such as job and wealth creation from the automotive industry, transportation provision, societal well-being from leisure and travel opportunities, and revenue generation from the taxes. People's ability to move flexibly from place to place has far-reaching implications for the nature of societies.[9] There are around 1 billion cars in use worldwide. The numbers are increasing rapidly, especially in China, India and other newly industrialized countries [10].\n",
            "Number of sentences in input : 21\n",
            "No of sentences in output : 4\n",
            "[4][5]There are costs and benefits to car use. Electric cars, which were invented early in the history of the car, became commercially available in the 2000s and are predicted to cost less to buy than gasoline cars before 2025. [8] The societal benefits include economic benefits, such as job and wealth creation from the automotive industry, transportation provision, societal well-being from leisure and travel opportunities, and revenue generation from the taxes. [9] There are around 1 billion cars in use worldwide. \n"
          ],
          "name": "stdout"
        }
      ]
    },
    {
      "cell_type": "code",
      "metadata": {
        "id": "JRku3krIFav5",
        "outputId": "585356c4-46de-4ef9-b7da-7c38a8b2162f",
        "colab": {
          "base_uri": "https://localhost:8080/",
          "height": 35
        }
      },
      "source": [
        "from google.colab import drive\n",
        "drive.mount('/content/gdrive')"
      ],
      "execution_count": null,
      "outputs": [
        {
          "output_type": "stream",
          "text": [
            "Mounted at /content/gdrive\n"
          ],
          "name": "stdout"
        }
      ]
    },
    {
      "cell_type": "code",
      "metadata": {
        "id": "775Eagzs2x3p"
      },
      "source": [
        "!pip install -U -q PyDrive\n",
        "\n",
        "from pydrive.auth import GoogleAuth\n",
        "from pydrive.drive import GoogleDrive\n",
        "from google.colab import auth\n",
        "from oauth2client.client import GoogleCredentials\n",
        "\n",
        "# 1. Authenticate and create the PyDrive client.\n",
        "auth.authenticate_user()\n",
        "gauth = GoogleAuth()\n",
        "gauth.credentials = GoogleCredentials.get_application_default()\n",
        "drive = GoogleDrive(gauth)\n",
        "\n",
        "# 2. Load a file by ID and create local file.\n",
        "download1 = drive.CreateFile({'id':'1RrgJLNBlHYXYtKTNgleE5iPMAOzOnFsG'}) # replace fileid with Id of file you want to access\n",
        "download1.GetContentFile('short_texts_sumy_st.csv') # now you can use export.csv \n",
        "\n",
        "download2 = drive.CreateFile({'id':'1BXH_VInfNw07NZpljxF1BZ2kSBktaxO7'})\n",
        "download2.GetContentFile('long_texts_sumy_st.csv')"
      ],
      "execution_count": null,
      "outputs": []
    },
    {
      "cell_type": "code",
      "metadata": {
        "id": "yBDgmLTN34E9"
      },
      "source": [
        "shorttexts = pd.read_csv('short_texts_sumy_st.csv')"
      ],
      "execution_count": null,
      "outputs": []
    },
    {
      "cell_type": "code",
      "metadata": {
        "id": "CDX_-mod36TB"
      },
      "source": [
        "short_fz_summaries = []\n",
        "for i in shorttexts['text'][:200]:\n",
        "  sl = len(nltk.sent_tokenize(i))\n",
        "  short_fz_summaries.append(fuzzy_method(i,sl//5))"
      ],
      "execution_count": null,
      "outputs": []
    },
    {
      "cell_type": "code",
      "metadata": {
        "id": "f1rphJxr4Jqj",
        "outputId": "905c81f3-fb79-4a62-c82d-01edd324ff26",
        "colab": {
          "base_uri": "https://localhost:8080/",
          "height": 35
        }
      },
      "source": [
        "len(short_fz_summaries)"
      ],
      "execution_count": null,
      "outputs": [
        {
          "output_type": "execute_result",
          "data": {
            "text/plain": [
              "200"
            ]
          },
          "metadata": {
            "tags": []
          },
          "execution_count": 41
        }
      ]
    },
    {
      "cell_type": "code",
      "metadata": {
        "id": "erDi-YgSHepg"
      },
      "source": [
        "for i in range(len(short_fz_summaries)-1,len(shorttexts)-1):\n",
        "  short_fz_summaries.append(None)"
      ],
      "execution_count": null,
      "outputs": []
    },
    {
      "cell_type": "code",
      "metadata": {
        "id": "s6SEA46yHjhM"
      },
      "source": [
        "short_texts_sumy_st_fz = pd.DataFrame({'text':shorttexts['text'],'sumy':shorttexts['sumy'],'statistical':shorttexts['statistical'],'fuzzy':short_fz_summaries})"
      ],
      "execution_count": null,
      "outputs": []
    },
    {
      "cell_type": "code",
      "metadata": {
        "id": "6yDEF4mrH4tU"
      },
      "source": [
        "longtexts = pd.read_csv('long_texts_sumy_st.csv')"
      ],
      "execution_count": null,
      "outputs": []
    },
    {
      "cell_type": "code",
      "metadata": {
        "id": "fNOBOIB1IDaE"
      },
      "source": [
        "long_fz_summaries = []\n",
        "for i in longtexts['text'][:100]:\n",
        "  sl = len(nltk.sent_tokenize(i))\n",
        "  long_fz_summaries.append(fuzzy_method(i,sl//5))"
      ],
      "execution_count": null,
      "outputs": []
    },
    {
      "cell_type": "code",
      "metadata": {
        "id": "YPlj6YarINUi",
        "outputId": "e5cde7a4-884d-4948-961e-7a4783f03037",
        "colab": {
          "base_uri": "https://localhost:8080/",
          "height": 35
        }
      },
      "source": [
        "len(long_fz_summaries)"
      ],
      "execution_count": null,
      "outputs": [
        {
          "output_type": "execute_result",
          "data": {
            "text/plain": [
              "100"
            ]
          },
          "metadata": {
            "tags": []
          },
          "execution_count": 47
        }
      ]
    },
    {
      "cell_type": "code",
      "metadata": {
        "id": "usQWoaaQKXB0"
      },
      "source": [
        "for i in range(len(long_fz_summaries)-1,len(longtexts)-1):\n",
        "  long_fz_summaries.append(None)"
      ],
      "execution_count": null,
      "outputs": []
    },
    {
      "cell_type": "code",
      "metadata": {
        "id": "vaW_7a26Kdr1"
      },
      "source": [
        "long_texts_sumy_st_fz = pd.DataFrame({'text':longtexts['text'],'sumy':longtexts['sumy'],'statistical':longtexts['statistical'],'fuzzy':long_fz_summaries})"
      ],
      "execution_count": null,
      "outputs": []
    },
    {
      "cell_type": "code",
      "metadata": {
        "id": "g0WekGR4KoSG"
      },
      "source": [
        "short_texts_sumy_st_fz.to_csv('short_texts_sumy_st_fz.csv')\n",
        "long_texts_sumy_st_fz.to_csv('long_texts_sumy_st_fz.csv')"
      ],
      "execution_count": null,
      "outputs": []
    },
    {
      "cell_type": "code",
      "metadata": {
        "id": "2bwTore9K727",
        "outputId": "880ceb58-8e39-4a9a-db8c-9ce6835d66e8",
        "colab": {
          "base_uri": "https://localhost:8080/",
          "height": 55
        }
      },
      "source": [
        "from google.colab import drive\n",
        "drive.mount('/content/gdrive')"
      ],
      "execution_count": null,
      "outputs": [
        {
          "output_type": "stream",
          "text": [
            "Drive already mounted at /content/gdrive; to attempt to forcibly remount, call drive.mount(\"/content/gdrive\", force_remount=True).\n"
          ],
          "name": "stdout"
        }
      ]
    },
    {
      "cell_type": "code",
      "metadata": {
        "id": "uleLpRopLAIE"
      },
      "source": [
        "!cp short_texts_sumy_st_fz.csv /content/gdrive/My\\ Drive/ATS/\n",
        "!cp long_texts_sumy_st_fz.csv /content/gdrive/My\\ Drive/ATS/"
      ],
      "execution_count": null,
      "outputs": []
    },
    {
      "cell_type": "code",
      "metadata": {
        "id": "rixDlpncLENO"
      },
      "source": [
        ""
      ],
      "execution_count": null,
      "outputs": []
    }
  ]
}
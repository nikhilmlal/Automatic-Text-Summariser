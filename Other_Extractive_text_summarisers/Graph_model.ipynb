{
  "nbformat": 4,
  "nbformat_minor": 0,
  "metadata": {
    "colab": {
      "name": "Graph_model.ipynb",
      "provenance": []
    },
    "kernelspec": {
      "name": "python3",
      "display_name": "Python 3"
    }
  },
  "cells": [
    {
      "cell_type": "code",
      "metadata": {
        "id": "IrMN9tYcz6SI",
        "outputId": "0dc72dc7-503e-4ab1-ec27-6822f6beb091",
        "colab": {
          "base_uri": "https://localhost:8080/",
          "height": 182
        }
      },
      "source": [
        "# importing packages\n",
        "import nltk\n",
        "import pandas as pd\n",
        "import re\n",
        "nltk.download('wordnet')\n",
        "nltk.download('punkt')\n",
        "nltk.download('stopwords')\n",
        "nltk.download('brown')"
      ],
      "execution_count": null,
      "outputs": [
        {
          "output_type": "stream",
          "text": [
            "[nltk_data] Downloading package wordnet to /root/nltk_data...\n",
            "[nltk_data]   Unzipping corpora/wordnet.zip.\n",
            "[nltk_data] Downloading package punkt to /root/nltk_data...\n",
            "[nltk_data]   Unzipping tokenizers/punkt.zip.\n",
            "[nltk_data] Downloading package stopwords to /root/nltk_data...\n",
            "[nltk_data]   Unzipping corpora/stopwords.zip.\n",
            "[nltk_data] Downloading package brown to /root/nltk_data...\n",
            "[nltk_data]   Unzipping corpora/brown.zip.\n"
          ],
          "name": "stdout"
        },
        {
          "output_type": "execute_result",
          "data": {
            "text/plain": [
              "True"
            ]
          },
          "metadata": {
            "tags": []
          },
          "execution_count": 1
        }
      ]
    },
    {
      "cell_type": "code",
      "metadata": {
        "id": "5es1fS8u0CNP"
      },
      "source": [
        "def text_cleaner(text):\n",
        "  new_text = text.lower()\n",
        "  new_text = re.sub(\"[^a-zA-Z0-9 .?]\", \" \", str(text))    # removing anything other than english letters, numbers, period symbol or question mark\n",
        "  new_text = re.sub(\"[ +]\", \" \", new_text) # removing unwanted whitespaces\n",
        "  new_text = re.sub(\"[.]{2,}\",\".\", new_text) # removing unwanted period symbols\n",
        "  return new_text"
      ],
      "execution_count": null,
      "outputs": []
    },
    {
      "cell_type": "code",
      "metadata": {
        "id": "pKQ2DUUK0EBa",
        "outputId": "6ae134ab-0385-42c0-99f8-59bf5083fdac",
        "colab": {
          "base_uri": "https://localhost:8080/",
          "height": 90
        }
      },
      "source": [
        "# removing stopwords\n",
        "nltk.download('stopwords')\n",
        "nltk.download('punkt')\n",
        "from nltk.corpus import stopwords\n",
        "from nltk.tokenize import word_tokenize\n",
        "def stopwords_remover(text):\n",
        "  word_tokens = word_tokenize(text)\n",
        "  new_text = \"\"\n",
        "  stop_words = set(stopwords.words('english'))\n",
        "  for words in word_tokens:\n",
        "    if words not in stop_words:\n",
        "      new_text = new_text + words + \" \"\n",
        "  return new_text"
      ],
      "execution_count": null,
      "outputs": [
        {
          "output_type": "stream",
          "text": [
            "[nltk_data] Downloading package stopwords to /root/nltk_data...\n",
            "[nltk_data]   Package stopwords is already up-to-date!\n",
            "[nltk_data] Downloading package punkt to /root/nltk_data...\n",
            "[nltk_data]   Package punkt is already up-to-date!\n"
          ],
          "name": "stdout"
        }
      ]
    },
    {
      "cell_type": "code",
      "metadata": {
        "id": "sYL8lH6n0FIh",
        "outputId": "7092a7f2-05a2-4f28-bc5c-18ade158e5f2",
        "colab": {
          "base_uri": "https://localhost:8080/",
          "height": 54
        }
      },
      "source": [
        "# applying lemmatisation (not used in the program)\n",
        "nltk.download('wordnet')\n",
        "def lemmatiser(text):\n",
        "  from nltk.stem import WordNetLemmatizer\n",
        "  l = WordNetLemmatizer()\n",
        "  return l.lemmatize(text)"
      ],
      "execution_count": null,
      "outputs": [
        {
          "output_type": "stream",
          "text": [
            "[nltk_data] Downloading package wordnet to /root/nltk_data...\n",
            "[nltk_data]   Package wordnet is already up-to-date!\n"
          ],
          "name": "stdout"
        }
      ]
    },
    {
      "cell_type": "code",
      "metadata": {
        "id": "GGYGE8jm0HNU",
        "outputId": "ec47b6d7-41c3-418d-9a36-1d1ceca4b756",
        "colab": {
          "base_uri": "https://localhost:8080/",
          "height": 54
        }
      },
      "source": [
        "#applying stemming\n",
        "nltk.download('wordnet')\n",
        "def stemmer(text):\n",
        "  from nltk.stem import PorterStemmer\n",
        "  ps =PorterStemmer()\n",
        "  sentences = nltk.sent_tokenize(text)\n",
        "  new_text = \"\"\n",
        "  for sentence in sentences:\n",
        "    temp_text = \"\"\n",
        "    words = word_tokenize(sentence)\n",
        "    for word in words:\n",
        "      word = ps.stem(word)\n",
        "      temp_text = temp_text + word +\" \"\n",
        "    new_text = new_text + temp_text\n",
        "  return new_text"
      ],
      "execution_count": null,
      "outputs": [
        {
          "output_type": "stream",
          "text": [
            "[nltk_data] Downloading package wordnet to /root/nltk_data...\n",
            "[nltk_data]   Package wordnet is already up-to-date!\n"
          ],
          "name": "stdout"
        }
      ]
    },
    {
      "cell_type": "code",
      "metadata": {
        "id": "WWG_0u6e0IX-"
      },
      "source": [
        "class node:\n",
        "  def __init__(self,sentence):# A class called Node is defined.\n",
        "    self.sentence = sentence # it has two variables: sentence and relations\n",
        "    self.relations = []\n",
        "def graph_method(text,op_len):\n",
        "  import math\n",
        "  sentences = nltk.sent_tokenize(text)\n",
        "  #print(\"No of sentences in input :\",len(sentences))\n",
        "  if(op_len==None):\n",
        "    op_len = len(sentences)//5\n",
        "    if(op_len==0):\n",
        "      print(\"Input text is too small\")\n",
        "      return\n",
        "  #text = stopwords_remover(text)\n",
        "  #text = stemmer(text)\n",
        "  #text = text_cleaner(text)\n",
        "  s = nltk.sent_tokenize(text)\n",
        "  nodes = []\n",
        "  for i in s:\n",
        "    nodes.append(node(i)) # a node is created for each sentence\n",
        "  for n1 in nodes:\n",
        "    n = [j for j in nodes if j!= n1]\n",
        "    for n2 in n:\n",
        "      words_set1 = word_tokenize(n1.sentence)\n",
        "      words_set2 = word_tokenize(n2.sentence)\n",
        "      words = words_set1 + words_set2\n",
        "      words = set(words)\n",
        "      set1 = []\n",
        "      set2 = []\n",
        "      for j in words:\n",
        "        if j in words_set1:\n",
        "          set1.append(1)\n",
        "        else:\n",
        "          set1.append(0)\n",
        "        if j in words_set2:\n",
        "          set2.append(1)\n",
        "        else:\n",
        "          set2.append(0)\n",
        "      numerator = 0\n",
        "      for i in range(len(words)):\n",
        "        numerator += set1[i]*set2[i]\n",
        "      denomenator = float(math.sqrt(sum(set1)*sum(set2)))\n",
        "      if denomenator ==0:\n",
        "        similarity_score = 0\n",
        "      else:\n",
        "        similarity_score = numerator/denomenator # checking similarity scores\n",
        "      if(similarity_score>0.1): # if the similarity score is greater than 0.1 the sentences are said to be connected\n",
        "        n1.relations.append(n2)\n",
        "  relation = []\n",
        "  for i in nodes:\n",
        "    relation.append(len(i.relations))\n",
        "  data_op = pd.DataFrame({'text':sentences,'scores':relation})\n",
        "  data_op = data_op.sort_values(by=['scores'],ascending=False)\n",
        "  data = data_op.values\n",
        "  new_text = \"\"\n",
        "  for i in range(op_len):\n",
        "    new_text += data[i][0]+\" \"\n",
        "  return new_text"
      ],
      "execution_count": null,
      "outputs": []
    },
    {
      "cell_type": "code",
      "metadata": {
        "id": "hTEJ-L2k11gu",
        "outputId": "9bb0939d-e048-4922-b0c4-3a957217ad53",
        "colab": {
          "base_uri": "https://localhost:8080/",
          "height": 92
        }
      },
      "source": [
        "text = \"A car (or automobile) is a wheeled motor vehicle used for transportation. Most definitions of cars say that they run primarily on roads, seat one to eight people, have four tires, and mainly transport people rather than goods.[2][3]Cars came into global use during the 20th century, and developed economies depend on them. The year 1886 is regarded as the birth year of the modern car when German inventor Karl Benz patented his Benz Patent-Motorwagen. Cars became widely available in the early 20th century. One of the first cars accessible to the masses was the 1908 Model T, an American car manufactured by the Ford Motor Company. Cars were rapidly adopted in the US, where they replaced animal-drawn carriages and carts, but took much longer to be accepted in Western Europe and other parts of the world.[citation needed]Cars have controls for driving, parking, passenger comfort, and a variety of lights. Over the decades, additional features and controls have been added to vehicles, making them progressively more complex, but also more reliable and easier to operate.[citation needed] These include rear reversing cameras, air conditioning, navigation systems, and in-car entertainment. Most cars in use in the 2010s are propelled by an internal combustion engine, fueled by the combustion of fossil fuels. Electric cars, which were invented early in the history of the car, became commercially available in the 2000s and are predicted to cost less to buy than gasoline cars before 2025.[4][5]There are costs and benefits to car use. The costs to the individual include acquiring the vehicle, interest payments (if the car is financed), repairs and maintenance, fuel, depreciation, driving time, parking fees, taxes, and insurance.[6] The costs to society include maintaining roads, land use, road congestion, air pollution, public health, health care, and disposing of the vehicle at the end of its life. Traffic collisions are the largest cause of injury-related deaths worldwide.[7]The personal benefits include on-demand transportation, mobility, independence, and convenience.[8] The societal benefits include economic benefits, such as job and wealth creation from the automotive industry, transportation provision, societal well-being from leisure and travel opportunities, and revenue generation from the taxes. People's ability to move flexibly from place to place has far-reaching implications for the nature of societies.[9] There are around 1 billion cars in use worldwide. The numbers are increasing rapidly, especially in China, India and other newly industrialized countries [10].\"\n",
        "output_sentence = None\n",
        "summary = graph_method(text,output_sentence)\n",
        "print(\"No of sentences in output :\",len(nltk.sent_tokenize(summary)))\n",
        "print(summary)"
      ],
      "execution_count": null,
      "outputs": [
        {
          "output_type": "stream",
          "text": [
            "No of sentences in input : 21\n",
            "No of sentences in output : 4\n",
            "[citation needed]Cars have controls for driving, parking, passenger comfort, and a variety of lights. Most cars in use in the 2010s are propelled by an internal combustion engine, fueled by the combustion of fossil fuels. [4][5]There are costs and benefits to car use. [8] The societal benefits include economic benefits, such as job and wealth creation from the automotive industry, transportation provision, societal well-being from leisure and travel opportunities, and revenue generation from the taxes. \n"
          ],
          "name": "stdout"
        }
      ]
    },
    {
      "cell_type": "code",
      "metadata": {
        "id": "QPnIc_202An8",
        "outputId": "226bf677-3ac0-47fa-f07b-57a4fd981327",
        "colab": {
          "base_uri": "https://localhost:8080/",
          "height": 110
        }
      },
      "source": [
        "input_text = input(\"Enter the text to be summarised :\")\n",
        "output_sentence = None\n",
        "summary = graph_method(input_text,output_sentence)\n",
        "print(\"No of sentences in output :\",len(nltk.sent_tokenize(summary)))\n",
        "print(summary)"
      ],
      "execution_count": null,
      "outputs": [
        {
          "output_type": "stream",
          "text": [
            "Enter the text to be summarised :A car (or automobile) is a wheeled motor vehicle used for transportation. Most definitions of cars say that they run primarily on roads, seat one to eight people, have four tires, and mainly transport people rather than goods.[2][3]Cars came into global use during the 20th century, and developed economies depend on them. The year 1886 is regarded as the birth year of the modern car when German inventor Karl Benz patented his Benz Patent-Motorwagen. Cars became widely available in the early 20th century. One of the first cars accessible to the masses was the 1908 Model T, an American car manufactured by the Ford Motor Company. Cars were rapidly adopted in the US, where they replaced animal-drawn carriages and carts, but took much longer to be accepted in Western Europe and other parts of the world.[citation needed]Cars have controls for driving, parking, passenger comfort, and a variety of lights. Over the decades, additional features and controls have been added to vehicles, making them progressively more complex, but also more reliable and easier to operate.[citation needed] These include rear reversing cameras, air conditioning, navigation systems, and in-car entertainment. Most cars in use in the 2010s are propelled by an internal combustion engine, fueled by the combustion of fossil fuels. Electric cars, which were invented early in the history of the car, became commercially available in the 2000s and are predicted to cost less to buy than gasoline cars before 2025.[4][5]There are costs and benefits to car use. The costs to the individual include acquiring the vehicle, interest payments (if the car is financed), repairs and maintenance, fuel, depreciation, driving time, parking fees, taxes, and insurance.[6] The costs to society include maintaining roads, land use, road congestion, air pollution, public health, health care, and disposing of the vehicle at the end of its life. Traffic collisions are the largest cause of injury-related deaths worldwide.[7]The personal benefits include on-demand transportation, mobility, independence, and convenience.[8] The societal benefits include economic benefits, such as job and wealth creation from the automotive industry, transportation provision, societal well-being from leisure and travel opportunities, and revenue generation from the taxes. People's ability to move flexibly from place to place has far-reaching implications for the nature of societies.[9] There are around 1 billion cars in use worldwide. The numbers are increasing rapidly, especially in China, India and other newly industrialized countries [10].\n",
            "No of sentences in input : 21\n",
            "No of sentences in output : 4\n",
            "[citation needed]Cars have controls for driving, parking, passenger comfort, and a variety of lights. Most cars in use in the 2010s are propelled by an internal combustion engine, fueled by the combustion of fossil fuels. [4][5]There are costs and benefits to car use. [8] The societal benefits include economic benefits, such as job and wealth creation from the automotive industry, transportation provision, societal well-being from leisure and travel opportunities, and revenue generation from the taxes. \n"
          ],
          "name": "stdout"
        }
      ]
    },
    {
      "cell_type": "code",
      "metadata": {
        "id": "NbVnS4Qu2Bdx",
        "outputId": "271d4e2d-8141-4ac6-fd89-92b9a2af660e",
        "colab": {
          "base_uri": "https://localhost:8080/",
          "height": 35
        }
      },
      "source": [
        "from google.colab import drive\n",
        "drive.mount('/content/gdrive')"
      ],
      "execution_count": null,
      "outputs": [
        {
          "output_type": "stream",
          "text": [
            "Mounted at /content/gdrive\n"
          ],
          "name": "stdout"
        }
      ]
    },
    {
      "cell_type": "code",
      "metadata": {
        "id": "lbHWCuMX2Dc3"
      },
      "source": [
        "!pip install -U -q PyDrive\n",
        "\n",
        "from pydrive.auth import GoogleAuth\n",
        "from pydrive.drive import GoogleDrive\n",
        "from google.colab import auth\n",
        "from oauth2client.client import GoogleCredentials\n",
        "\n",
        "# 1. Authenticate and create the PyDrive client.\n",
        "auth.authenticate_user()\n",
        "gauth = GoogleAuth()\n",
        "gauth.credentials = GoogleCredentials.get_application_default()\n",
        "drive = GoogleDrive(gauth)\n",
        "\n",
        "# 2. Load a file by ID and create local file.\n",
        "download1 = drive.CreateFile({'id':'1lqtXt3oBICXguloKruk1fjX_0IzIycAQ'}) # replace fileid with Id of file you want to access\n",
        "download1.GetContentFile('short_texts_sumy_st_fz.csv') # now you can use export.csv \n",
        "\n",
        "download2 = drive.CreateFile({'id':'1QSM3CeK8EOUYSg4wO8PhhlMjJ2NPgZfV'})\n",
        "download2.GetContentFile('long_texts_sumy_st_fz.csv')"
      ],
      "execution_count": null,
      "outputs": []
    },
    {
      "cell_type": "code",
      "metadata": {
        "id": "y5PVPOem3NVV"
      },
      "source": [
        "shorttexts = pd.read_csv('short_texts_sumy_st_fz.csv')"
      ],
      "execution_count": null,
      "outputs": []
    },
    {
      "cell_type": "code",
      "metadata": {
        "id": "jE2BnDvf3SJy"
      },
      "source": [
        "short_gf_summaries = []\n",
        "for i in shorttexts['text'][:200]:\n",
        "  sl = len(nltk.sent_tokenize(i))\n",
        "  short_gf_summaries.append(graph_method(i,sl//5))"
      ],
      "execution_count": null,
      "outputs": []
    },
    {
      "cell_type": "code",
      "metadata": {
        "id": "3QHI5NqX3jdr",
        "outputId": "3862d394-bb30-4523-b664-8c08e8b87528",
        "colab": {
          "base_uri": "https://localhost:8080/",
          "height": 35
        }
      },
      "source": [
        "len(short_gf_summaries)"
      ],
      "execution_count": null,
      "outputs": [
        {
          "output_type": "execute_result",
          "data": {
            "text/plain": [
              "200"
            ]
          },
          "metadata": {
            "tags": []
          },
          "execution_count": 15
        }
      ]
    },
    {
      "cell_type": "code",
      "metadata": {
        "id": "jNU5ZX2U33rs"
      },
      "source": [
        "for i in range(len(short_gf_summaries)-1,len(shorttexts)-1):\n",
        "  short_gf_summaries.append(None)"
      ],
      "execution_count": null,
      "outputs": []
    },
    {
      "cell_type": "code",
      "metadata": {
        "id": "LecCZb9y39la"
      },
      "source": [
        "short_texts_sumy_st_fz_gf = pd.DataFrame({'text':shorttexts['text'],'sumy':shorttexts['sumy'],'statistical':shorttexts['statistical'],'fuzzy':shorttexts['fuzzy'],'graph':short_gf_summaries})"
      ],
      "execution_count": null,
      "outputs": []
    },
    {
      "cell_type": "code",
      "metadata": {
        "id": "9mtDOnRv4WVw"
      },
      "source": [
        "longtexts = pd.read_csv('long_texts_sumy_st_fz.csv')"
      ],
      "execution_count": null,
      "outputs": []
    },
    {
      "cell_type": "code",
      "metadata": {
        "id": "947XvmgD4bWF"
      },
      "source": [
        "long_gf_summaries = []\n",
        "for i in longtexts['text'][:100]:\n",
        "  sl = len(nltk.sent_tokenize(i))\n",
        "  long_gf_summaries.append(graph_method(i,sl//5))"
      ],
      "execution_count": null,
      "outputs": []
    },
    {
      "cell_type": "code",
      "metadata": {
        "id": "Mo-B2VNC4h42",
        "outputId": "e23fc087-7ca3-4518-bdcc-c15f07aab990",
        "colab": {
          "base_uri": "https://localhost:8080/",
          "height": 35
        }
      },
      "source": [
        "len(long_gf_summaries)"
      ],
      "execution_count": null,
      "outputs": [
        {
          "output_type": "execute_result",
          "data": {
            "text/plain": [
              "100"
            ]
          },
          "metadata": {
            "tags": []
          },
          "execution_count": 22
        }
      ]
    },
    {
      "cell_type": "code",
      "metadata": {
        "id": "xR1htkWw4ldq"
      },
      "source": [
        "for i in range(len(long_gf_summaries)-1,len(longtexts)-1):\n",
        "  long_gf_summaries.append(None)"
      ],
      "execution_count": null,
      "outputs": []
    },
    {
      "cell_type": "code",
      "metadata": {
        "id": "UJwbgzkI4pxF"
      },
      "source": [
        "long_texts_sumy_st_fz_gf = pd.DataFrame({'text':longtexts['text'],'sumy':longtexts['sumy'],'statistical':longtexts['statistical'],'fuzzy':longtexts['fuzzy'],'graph':long_gf_summaries})"
      ],
      "execution_count": null,
      "outputs": []
    },
    {
      "cell_type": "code",
      "metadata": {
        "id": "ruajp9qN5FTO"
      },
      "source": [
        "short_texts_sumy_st_fz_gf.to_csv('short_texts_sumy_st_fz_gf.csv')\n",
        "long_texts_sumy_st_fz_gf.to_csv('long_texts_sumy_st_fz_gf.csv')"
      ],
      "execution_count": null,
      "outputs": []
    },
    {
      "cell_type": "code",
      "metadata": {
        "id": "EkSWIOxu5LaF",
        "outputId": "24c7cd63-503d-4c55-8c70-ecdcdcbebe43",
        "colab": {
          "base_uri": "https://localhost:8080/",
          "height": 35
        }
      },
      "source": [
        "from google.colab import drive\n",
        "drive.mount('/content/gdrive')"
      ],
      "execution_count": null,
      "outputs": [
        {
          "output_type": "stream",
          "text": [
            "Drive already mounted at /content/gdrive; to attempt to forcibly remount, call drive.mount(\"/content/gdrive\", force_remount=True).\n"
          ],
          "name": "stdout"
        }
      ]
    },
    {
      "cell_type": "code",
      "metadata": {
        "id": "x4ojhAJu5N4r"
      },
      "source": [
        "!cp short_texts_sumy_st_fz_gf.csv /content/gdrive/My\\ Drive/ATS/\n",
        "!cp long_texts_sumy_st_fz_gf.csv /content/gdrive/My\\ Drive/ATS/"
      ],
      "execution_count": null,
      "outputs": []
    },
    {
      "cell_type": "code",
      "metadata": {
        "id": "TZJ0C5vT5RcO"
      },
      "source": [
        ""
      ],
      "execution_count": null,
      "outputs": []
    }
  ]
}